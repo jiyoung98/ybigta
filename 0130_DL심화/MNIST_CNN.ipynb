{
  "nbformat": 4,
  "nbformat_minor": 0,
  "metadata": {
    "colab": {
      "name": "MNIST_CNN.ipynb",
      "provenance": []
    },
    "kernelspec": {
      "name": "python3",
      "display_name": "Python 3"
    }
  },
  "cells": [
    {
      "cell_type": "markdown",
      "metadata": {
        "id": "tBHleQwEvAns"
      },
      "source": [
        "과제!!\r\n",
        "MNIST test data에 대해 accuracy 98% 이상인 모델 만들어보기"
      ]
    },
    {
      "cell_type": "code",
      "metadata": {
        "id": "25ZmxuBvvE6S"
      },
      "source": [
        "import numpy as np\r\n",
        "import tensorflow as tf\r\n",
        "from tensorflow.keras import datasets, layers, models\r\n",
        "import matplotlib.pyplot as plt\r\n",
        "from PIL import Image\r\n",
        "%matplotlib inline"
      ],
      "execution_count": 30,
      "outputs": []
    },
    {
      "cell_type": "code",
      "metadata": {
        "id": "GWSaxUF0vO-8"
      },
      "source": [
        "(x_train, y_train), (x_test, y_test) = tf.keras.datasets.mnist.load_data()"
      ],
      "execution_count": 31,
      "outputs": []
    },
    {
      "cell_type": "code",
      "metadata": {
        "colab": {
          "base_uri": "https://localhost:8080/"
        },
        "id": "fSg2a3slvPrp",
        "outputId": "356c40a7-eaf9-451a-c557-1fb12b257858"
      },
      "source": [
        "x_train = np.reshape(x_train, (-1,28,28,1))\r\n",
        "x_test = np.reshape(x_test, (-1,28,28,1))\r\n",
        "x_train.shape, x_test.shape"
      ],
      "execution_count": 32,
      "outputs": [
        {
          "output_type": "execute_result",
          "data": {
            "text/plain": [
              "((60000, 28, 28, 1), (10000, 28, 28, 1))"
            ]
          },
          "metadata": {
            "tags": []
          },
          "execution_count": 32
        }
      ]
    },
    {
      "cell_type": "code",
      "metadata": {
        "id": "Xcl0KhmxvRqE"
      },
      "source": [
        "x_train, x_test = x_train / 255.0, x_test / 255.0"
      ],
      "execution_count": 33,
      "outputs": []
    },
    {
      "cell_type": "code",
      "metadata": {
        "colab": {
          "base_uri": "https://localhost:8080/"
        },
        "id": "G9aSWSl9vb88",
        "outputId": "0e3556d0-6c57-4165-f6b2-8017faecf891"
      },
      "source": [
        "y_train = tf.keras.utils.to_categorical(y_train, 10)\r\n",
        "y_test = tf.keras.utils.to_categorical(y_test, 10)\r\n",
        "y_train.shape, y_test.shape"
      ],
      "execution_count": 34,
      "outputs": [
        {
          "output_type": "execute_result",
          "data": {
            "text/plain": [
              "((60000, 10), (10000, 10))"
            ]
          },
          "metadata": {
            "tags": []
          },
          "execution_count": 34
        }
      ]
    },
    {
      "cell_type": "code",
      "metadata": {
        "id": "pan85cJKvyeV"
      },
      "source": [
        "datagen = tf.keras.preprocessing.image.ImageDataGenerator(\r\n",
        "    rotation_range = 20,\r\n",
        "    width_shift_range = 0.1,\r\n",
        "    height_shift_range = 0.1,\r\n",
        "    validation_split = 0.25\r\n",
        ")\r\n",
        "datagen.fit(x_train)"
      ],
      "execution_count": 35,
      "outputs": []
    },
    {
      "cell_type": "code",
      "metadata": {
        "colab": {
          "base_uri": "https://localhost:8080/"
        },
        "id": "bg0RLB8uvgLT",
        "outputId": "498ddff5-df82-496b-8123-860b9b3325a4"
      },
      "source": [
        "model = models.Sequential()\r\n",
        "model.add(layers.Conv2D(32, (3, 3), activation='relu', input_shape=(28, 28, 1)))\r\n",
        "model.add(layers.MaxPooling2D((2, 2)))\r\n",
        "model.add(layers.Conv2D(64, (3, 3), activation='relu'))\r\n",
        "model.add(layers.MaxPooling2D((2, 2)))\r\n",
        "model.add(layers.Conv2D(64, (3, 3), activation='relu'))\r\n",
        "model.add(layers.Flatten())\r\n",
        "model.add(layers.Dense(64, activation='relu'))\r\n",
        "model.add(layers.Dense(10, activation='softmax'))\r\n",
        "\r\n",
        "model.summary()"
      ],
      "execution_count": 36,
      "outputs": [
        {
          "output_type": "stream",
          "text": [
            "Model: \"sequential_6\"\n",
            "_________________________________________________________________\n",
            "Layer (type)                 Output Shape              Param #   \n",
            "=================================================================\n",
            "conv2d_15 (Conv2D)           (None, 26, 26, 32)        320       \n",
            "_________________________________________________________________\n",
            "max_pooling2d_10 (MaxPooling (None, 13, 13, 32)        0         \n",
            "_________________________________________________________________\n",
            "conv2d_16 (Conv2D)           (None, 11, 11, 64)        18496     \n",
            "_________________________________________________________________\n",
            "max_pooling2d_11 (MaxPooling (None, 5, 5, 64)          0         \n",
            "_________________________________________________________________\n",
            "conv2d_17 (Conv2D)           (None, 3, 3, 64)          36928     \n",
            "_________________________________________________________________\n",
            "flatten_8 (Flatten)          (None, 576)               0         \n",
            "_________________________________________________________________\n",
            "dense_10 (Dense)             (None, 64)                36928     \n",
            "_________________________________________________________________\n",
            "dense_11 (Dense)             (None, 10)                650       \n",
            "=================================================================\n",
            "Total params: 93,322\n",
            "Trainable params: 93,322\n",
            "Non-trainable params: 0\n",
            "_________________________________________________________________\n"
          ],
          "name": "stdout"
        }
      ]
    },
    {
      "cell_type": "code",
      "metadata": {
        "id": "fWkZQR8Rx0T9"
      },
      "source": [
        "model.compile(optimizer='adam',\r\n",
        "              loss='categorical_crossentropy',\r\n",
        "              metrics=['accuracy'])"
      ],
      "execution_count": 37,
      "outputs": []
    },
    {
      "cell_type": "code",
      "metadata": {
        "colab": {
          "base_uri": "https://localhost:8080/"
        },
        "id": "yoEWPkq-wliT",
        "outputId": "c9d161be-240e-45f1-ce70-5c2307191e73"
      },
      "source": [
        "train_generator = datagen.flow(x_train, y_train, batch_size = 64, subset = 'training')\r\n",
        "val_generator = datagen.flow(x_train, y_train, batch_size = 64, subset = 'validation')\r\n",
        "\r\n",
        "history = model.fit_generator( train_generator,\r\n",
        "                               epochs = 5,\r\n",
        "                               verbose = 1,\r\n",
        "                               validation_data = val_generator\r\n",
        "                               )"
      ],
      "execution_count": 38,
      "outputs": [
        {
          "output_type": "stream",
          "text": [
            "/usr/local/lib/python3.6/dist-packages/tensorflow/python/keras/engine/training.py:1844: UserWarning: `Model.fit_generator` is deprecated and will be removed in a future version. Please use `Model.fit`, which supports generators.\n",
            "  warnings.warn('`Model.fit_generator` is deprecated and '\n"
          ],
          "name": "stderr"
        },
        {
          "output_type": "stream",
          "text": [
            "Epoch 1/5\n",
            "704/704 [==============================] - 52s 73ms/step - loss: 0.8502 - accuracy: 0.7156 - val_loss: 0.2710 - val_accuracy: 0.9139\n",
            "Epoch 2/5\n",
            "704/704 [==============================] - 51s 73ms/step - loss: 0.1822 - accuracy: 0.9420 - val_loss: 0.1807 - val_accuracy: 0.9445\n",
            "Epoch 3/5\n",
            "704/704 [==============================] - 51s 73ms/step - loss: 0.1211 - accuracy: 0.9633 - val_loss: 0.1103 - val_accuracy: 0.9660\n",
            "Epoch 4/5\n",
            "704/704 [==============================] - 51s 73ms/step - loss: 0.0935 - accuracy: 0.9707 - val_loss: 0.0984 - val_accuracy: 0.9680\n",
            "Epoch 5/5\n",
            "704/704 [==============================] - 51s 73ms/step - loss: 0.0821 - accuracy: 0.9739 - val_loss: 0.0754 - val_accuracy: 0.9774\n"
          ],
          "name": "stdout"
        }
      ]
    },
    {
      "cell_type": "code",
      "metadata": {
        "colab": {
          "base_uri": "https://localhost:8080/",
          "height": 295
        },
        "id": "9Q0dyS3rxKIA",
        "outputId": "4cae0c69-b8ad-467d-eae0-79f0f8448561"
      },
      "source": [
        "fig = plt.figure()\r\n",
        "ax1 = fig.add_subplot(1,2,1)\r\n",
        "ax2 = fig.add_subplot(1,2,2)\r\n",
        "\r\n",
        "ax1.plot(history.history['accuracy'])\r\n",
        "ax1.plot(history.history['val_accuracy'])\r\n",
        "ax1.set_title('Model Accuracy')\r\n",
        "ax1.set_ylabel('Accuracy')\r\n",
        "ax1.set_xlabel('Epoch')\r\n",
        "ax1.legend(['Train', 'Test'], loc='upper left')\r\n",
        "\r\n",
        "ax2.plot(history.history['loss'])\r\n",
        "ax2.plot(history.history['val_loss'])\r\n",
        "ax2.set_title('Model Loss')\r\n",
        "ax2.set_ylabel('Loss')\r\n",
        "ax2.set_xlabel('Epoch')\r\n",
        "ax2.legend(['Train', 'Test'], loc='upper left')\r\n",
        "\r\n",
        "plt.show()"
      ],
      "execution_count": 39,
      "outputs": [
        {
          "output_type": "display_data",
          "data": {
            "image/png": "[encoded data removed]",
            "text/plain": [
              "<Figure size 432x288 with 2 Axes>"
            ]
          },
          "metadata": {
            "tags": [],
            "needs_background": "light"
          }
        }
      ]
    },
    {
      "cell_type": "code",
      "metadata": {
        "colab": {
          "base_uri": "https://localhost:8080/"
        },
        "id": "hESZcgjg0qqL",
        "outputId": "defc8845-ec2e-4a6e-ad86-0b88ae87be25"
      },
      "source": [
        "loss, accuracy = model.evaluate(x_test, y_test)\r\n",
        "print(f'test loss : {loss} / test accuracy : {accuracy}')"
      ],
      "execution_count": 40,
      "outputs": [
        {
          "output_type": "stream",
          "text": [
            "313/313 [==============================] - 3s 9ms/step - loss: 0.0455 - accuracy: 0.9858\n",
            "test loss : 0.0455099381506443 / test accuracy : 0.98580002784729\n"
          ],
          "name": "stdout"
        }
      ]
    }
  ]
}